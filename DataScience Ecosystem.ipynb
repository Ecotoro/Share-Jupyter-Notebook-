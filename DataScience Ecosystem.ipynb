{
 "cells": [
  {
   "cell_type": "markdown",
   "id": "472e0ae9",
   "metadata": {},
   "source": [
    "# Data Science Tools and Ecosystem\n",
    "## In this notebook, Data Science Tools and Ecosystem are summarized.\n",
    "**Objectives :**\n",
    "* Python\n",
    "* R\n",
    "* Julia\n",
    "* Java\n",
    "* C/C++\n",
    "\n",
    "### Some of the popular languages that Data Scientists use are : \n",
    "1. Python\n",
    "2. R\n",
    "3. SQL\n",
    "4. Java\n",
    "5. Julia\n",
    "6. Scala\n",
    "7. C/C++\n",
    "8. JavaScript\n",
    "9. Swift\n",
    "10. Go\n",
    "11. MATLAB\n",
    "11. SAS\n",
    "### Some of the commonly  used libraries used by Data Scientists include : \n",
    "1. NumPy\n",
    "2. Pandas\n",
    "3. Matplotlib\n",
    "4. Seaborn\n",
    "5. Pltoly\n",
    "6. Scikit-Learn\n",
    "### Table with Data \n",
    "| Data Science Tools |\n",
    "|:------------------:|\n",
    "| Jupyter notebook |\n",
    "| Pytorch |\n",
    "| MlFlow |\n",
    "+ This will convert 200 minutes to hours by divividing by 60 : Hours = 200 / 60\n",
    "### Author : \n",
    "+ Hector "
   ]
  },
  {
   "cell_type": "code",
   "execution_count": 2,
   "id": "401be0a9",
   "metadata": {},
   "outputs": [
    {
     "data": {
      "text/plain": [
       "17"
      ]
     },
     "execution_count": 2,
     "metadata": {},
     "output_type": "execute_result"
    }
   ],
   "source": [
    " 3 * 4 + 5"
   ]
  },
  {
   "cell_type": "code",
   "execution_count": 12,
   "id": "40706892",
   "metadata": {},
   "outputs": [],
   "source": [
    "# This will convert 200 minutes to hours by dividing by 60"
   ]
  },
  {
   "cell_type": "code",
   "execution_count": 21,
   "id": "bd871230",
   "metadata": {},
   "outputs": [],
   "source": [
    "Hours = 200 / 60"
   ]
  },
  {
   "cell_type": "code",
   "execution_count": 22,
   "id": "cea170f0",
   "metadata": {},
   "outputs": [
    {
     "data": {
      "text/plain": [
       "3"
      ]
     },
     "execution_count": 22,
     "metadata": {},
     "output_type": "execute_result"
    }
   ],
   "source": [
    "hours"
   ]
  }
 ],
 "metadata": {
  "kernelspec": {
   "display_name": "Python 3 (ipykernel)",
   "language": "python",
   "name": "python3"
  },
  "language_info": {
   "codemirror_mode": {
    "name": "ipython",
    "version": 3
   },
   "file_extension": ".py",
   "mimetype": "text/x-python",
   "name": "python",
   "nbconvert_exporter": "python",
   "pygments_lexer": "ipython3",
   "version": "3.11.5"
  }
 },
 "nbformat": 4,
 "nbformat_minor": 5
}
